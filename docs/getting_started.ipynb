{
 "cells": [
  {
   "cell_type": "markdown",
   "metadata": {},
   "source": [
    "# Getting started with `delb`\n",
    "\n",
    "\n",
    "This notebook gives a brief introduction with a few examples on TEI-XML\n",
    "encoded transcriptions. The cells' output isn't pre-rendered, you need to\n",
    "execute them in order to see the output of code cells.\n",
    "\n",
    "The full API reference is available at https://delb.readthedocs.io/en/latest/api.html .\n",
    "\n",
    "First, we will install the library, including the dependencies to load a `https://`\n",
    "resource, and then import the `Document` class:"
   ]
  },
  {
   "cell_type": "code",
   "execution_count": null,
   "metadata": {
    "pycharm": {
     "is_executing": false,
     "name": "#%%\n"
    }
   },
   "outputs": [],
   "source": [
    "! pip install delb[https-loader]\n",
    "\n",
    "from delb import Document"
   ]
  },
  {
   "cell_type": "markdown",
   "metadata": {},
   "source": [
    "## Loading a document\n",
    "\n",
    "`delb` can instantiate document representations from a variety of source arguments,\n",
    "namely URLs, strings and `lxml` objects. See the API doc's *Document loaders* section\n",
    "for more on the contributed loaders. Plugin packages can provide further loaders. \n",
    "\n",
    "Let's load R.L. Stevenson's *Treasure Island* from a web server:"
   ]
  },
  {
   "cell_type": "code",
   "execution_count": null,
   "metadata": {
    "pycharm": {
     "is_executing": false,
     "name": "#%%\n"
    }
   },
   "outputs": [],
   "source": [
    "treasure_island = Document(\n",
    "    \"https://ota.bodleian.ox.ac.uk/repository/xmlui/bitstream/handle/20.500.12024/5730/5730.xml\"\n",
    ")\n",
    "treasure_island.config.source_url"
   ]
  },
  {
   "cell_type": "markdown",
   "source": [
    "#### Related API docs\n",
    "\n",
    "[Document class](https://delb.readthedocs.io/en/latest/api.html#delb.Document),\n",
    "[Documment loaders](https://delb.readthedocs.io/en/latest/api.html#document-loaders)"
   ],
   "metadata": {
    "collapsed": false,
    "pycharm": {
     "name": "#%% md\n"
    }
   }
  },
  {
   "cell_type": "markdown",
   "metadata": {
    "pycharm": {
     "name": "#%% md\n"
    }
   },
   "source": [
    "## Node types\n",
    "\n",
    "The document's content is contained in a tree whose root node is available as\n",
    "the `root` property of an instance and is of the `TagNode` type."
   ]
  },
  {
   "cell_type": "code",
   "execution_count": null,
   "metadata": {
    "pycharm": {
     "is_executing": false,
     "name": "#%%\n"
    }
   },
   "outputs": [],
   "source": [
    "root = treasure_island.root\n",
    "print(\"The root node's name:\", root.qualified_name)\n",
    "print(\"The number of the root's child nodes:\", len(root))"
   ]
  },
  {
   "cell_type": "markdown",
   "metadata": {
    "pycharm": {
     "name": "#%% md\n"
    }
   },
   "source": [
    "Beside `TagNode`s, there are also `TextNode`s as well as `CommentNode`s and\n",
    "`ProcessingInstruction`s. The latter two are filtered out by default, there's\n",
    "more on this in the API doc's *Default filters* section. \n",
    "\n",
    "Querying document contents is of course a common task and in the context of the whole document, XPath-queries are straight-forward. So, what title is recorded in the document's header section?"
   ]
  },
  {
   "cell_type": "code",
   "execution_count": null,
   "metadata": {
    "pycharm": {
     "is_executing": false,
     "name": "#%%\n"
    }
   },
   "outputs": [],
   "source": [
    "from delb import first\n",
    "\n",
    "title_node = first(treasure_island.xpath(\".//titleStmt/title\"))\n",
    "print(title_node.full_text)"
   ]
  },
  {
   "cell_type": "markdown",
   "metadata": {
    "pycharm": {
     "name": "#%% md\n"
    }
   },
   "source": [
    "For our purpose we want to manipulate the title to really just contain the\n",
    "work's title without further textual annotation, so we need to fetch the containing\n",
    "text node and alter its content:"
   ]
  },
  {
   "cell_type": "code",
   "execution_count": null,
   "metadata": {
    "pycharm": {
     "is_executing": false,
     "name": "#%%\n"
    }
   },
   "outputs": [],
   "source": [
    "text_node = title_node.first_child\n",
    "text_node.content = \"Treasure Island\"\n",
    "print(title_node.full_text)"
   ]
  },
  {
   "cell_type": "markdown",
   "source": [
    "#### Related API docs\n",
    "\n",
    "[`Document.root`](https://delb.readthedocs.io/en/latest/api.html#delb.Document.root),\n",
    "[`TagNode` class](https://delb.readthedocs.io/en/latest/api.html#deld.TagNode),\n",
    "[`TextNode` class](https://delb.readthedocs.io/en/latest/api.html#del.TextNode),\n",
    "[`CommentNode` class](https://delb.readthedocs.io/en/latest/api.html#delb.CommentNode),\n",
    "[`ProcessingInstruction` class](https://delb.readthedocs.io/en/latest/api.html#delb.ProcessingInstructionNode),\n",
    "[default filters](https://delb.readthedocs.io/en/latest/api.html#default-filters),\n",
    "[`first`](https://delb.readthedocs.io/en/latest/api.html#delb.first),\n",
    "[`Document.xpath`](https://delb.readthedocs.io/en/latest/api.html#delb.Document.xpath),\n",
    "[`TagNode.full_text`](https://delb.readthedocs.io/en/latest/api.html#delb.TagNode.full_text)"
   ],
   "metadata": {
    "collapsed": false,
    "pycharm": {
     "name": "#%% md\n"
    }
   }
  },
  {
   "cell_type": "markdown",
   "metadata": {
    "pycharm": {
     "name": "#%% md\n"
    }
   },
   "source": [
    "## Navigating the tree\n",
    "\n",
    "Now, let's find out what the author record says and use different ways that\n",
    "`delb` provides to navigate the tree.\n",
    "\n",
    "Given we know that the document has only one author and that the node\n",
    "holding that information is following the `title`, it can be simply fetched\n",
    "by targeting the right sibling:"
   ]
  },
  {
   "cell_type": "code",
   "execution_count": null,
   "metadata": {
    "pycharm": {
     "is_executing": false,
     "name": "#%%\n"
    }
   },
   "outputs": [],
   "source": [
    "author_node = title_node.next_node()\n",
    "print(author_node.full_text)"
   ]
  },
  {
   "cell_type": "markdown",
   "metadata": {
    "pycharm": {
     "name": "#%% md\n"
    }
   },
   "source": [
    "But a more generic approach would consider that there could be several authors\n",
    "and that there's no constraint regarding the order of nodes in the containing\n",
    "`titleStmt` node. Therefore we define a filter that matches only nodes with\n",
    "the name `author` and fetch all matching child nodes of the `titleStmt`:"
   ]
  },
  {
   "cell_type": "code",
   "execution_count": null,
   "metadata": {
    "pycharm": {
     "is_executing": false,
     "name": "#%%\n"
    }
   },
   "outputs": [],
   "source": [
    "from delb import is_tag_node\n",
    "\n",
    "def has_author_name(node: \"NodeBase\") -> bool:\n",
    "    return node.local_name == \"author\"\n",
    "\n",
    "title_statement = title_node.parent\n",
    "author_nodes = title_statement.child_nodes(is_tag_node, has_author_name)\n",
    "print(author_nodes)"
   ]
  },
  {
   "cell_type": "markdown",
   "metadata": {
    "pycharm": {
     "name": "#%% md\n"
    }
   },
   "source": [
    "Wait, that's a `generator object`, now what? Or firstly, why? Employing \n",
    "generators allows lazy evaluation of iterables and avoids large intermediate\n",
    "containers that could be expected from operations like this:\n",
    "\n",
    "```python\n",
    "# do not use lambda expressions at home!\n",
    "for node in root.child_nodes(\n",
    "    lambda n: (isinstance(n, TagNode) and n.local_name == \"p\"), recurse=True\n",
    "):\n",
    "    pass\n",
    "```\n",
    "\n",
    "Since we are after the author names and not the containing nodes, we can use\n",
    "that generator (once) in a\n",
    "[list comprehension](https://docs.python.org/glossary.html#term-list-comprehension):"
   ]
  },
  {
   "cell_type": "code",
   "execution_count": null,
   "metadata": {
    "pycharm": {
     "is_executing": false,
     "name": "#%%\n"
    }
   },
   "outputs": [],
   "source": [
    "[node.full_text for node in author_nodes]"
   ]
  },
  {
   "cell_type": "markdown",
   "source": [
    "#### Related API docs\n",
    "\n",
    "[`TagNode.next_node`](https://delb.readthedocs.io/en/latest/api.html#delb.TagNode.next_node),\n",
    "[`is_tag_node`](https://delb.readthedocs.io/en/latest/api.html#delb.is_tag_node),\n",
    "[`TagNode.local_name`](https://delb.readthedocs.io/en/latest/api.html#delb.TagNode.local_name),\n",
    "[`TagNode.parent`](https://delb.readthedocs.io/en/latest/api.html#delb.TagNode.parent),\n",
    "[`TagNode.child_nodes`](https://delb.readthedocs.io/en/latest/api.html#delb.TagNode.child_nodes),"
   ],
   "metadata": {
    "collapsed": false
   }
  },
  {
   "cell_type": "markdown",
   "metadata": {
    "pycharm": {
     "name": "#%% md\n"
    }
   },
   "source": [
    "## Rearranging nodes\n",
    "\n",
    "What about we create another document that contains a table of contents, or\n",
    "rather a tree, and sparse title information? As this shall demonstrate the\n",
    "manipulation of trees, we start off with a copy of the document (instead of\n",
    "just extracting the information and building a new tree). First we define a namespace, register it with a prefix for serializations and clone the root node."
   ]
  },
  {
   "cell_type": "code",
   "execution_count": null,
   "metadata": {
    "pycharm": {
     "is_executing": false,
     "name": "#%%\n"
    }
   },
   "outputs": [],
   "source": [
    "from delb import register_namespace\n",
    "\n",
    "TOC_NS = \"https://t.oc/\"\n",
    "register_namespace(\"toc\", TOC_NS)\n",
    "\n",
    "root = treasure_island.clone().root"
   ]
  },
  {
   "cell_type": "markdown",
   "metadata": {
    "pycharm": {
     "name": "#%% md\n"
    }
   },
   "source": [
    "First we select and clone the nodes containing the title and author information, alter their namespace and place them as first child nodes of the root. Note that except for `replace` all methods that add nodes to a tree, can take a variable amount of nodes as arguments and therefore the destructuring notation of iterables by prefixing such with `*` can be used."
   ]
  },
  {
   "cell_type": "code",
   "execution_count": null,
   "metadata": {
    "pycharm": {
     "is_executing": false,
     "name": "#%%\n"
    }
   },
   "outputs": [],
   "source": [
    "nodes = [node.clone(deep=True) for node in root.css_select(\"titleStmt title, titleStmt author\")]\n",
    "\n",
    "for node in nodes:\n",
    "    node.namespace = TOC_NS\n",
    "\n",
    "root.insert_child(0, *nodes)"
   ]
  },
  {
   "cell_type": "markdown",
   "metadata": {},
   "source": [
    "It's noteworthy at this point that `delb` doesn't allow to just move nodes around within or between trees. Following the paradigm that *explicit is better than implicit*  you have to either `clone` (as before or by passing the `clone` argument as `True`) or `detach` a non-root-node before you insert it into a tree.\n",
    " \n",
    "Then we get rid of the `teiHeader` and its contents. As the reference to the detached nodes are lost (by looping) or deleted, the nodes themself will be removed from the heap upon garbage collection."
   ]
  },
  {
   "cell_type": "code",
   "execution_count": null,
   "metadata": {},
   "outputs": [],
   "source": [
    "first(root.css_select(\"teiHeader\")).detach()\n",
    "print(str(root)[:208])"
   ]
  },
  {
   "cell_type": "markdown",
   "metadata": {},
   "source": [
    "For the directory of sections, we'll go that more straight-forward way of extracting and assembling. So let's make a container for the items:"
   ]
  },
  {
   "cell_type": "code",
   "execution_count": null,
   "metadata": {},
   "outputs": [],
   "source": [
    "contents = root.new_tag_node(\"contents\", namespace=TOC_NS)"
   ]
  },
  {
   "cell_type": "markdown",
   "metadata": {},
   "source": [
    "We'll need a function because we need recursion to extract subsections. Also, filter functions are defined and used to iterate over the relevant nodes, and to reduce imperative instructions to build subtrees, the `tag` function is employed that allows a brief, declarative way to do so."
   ]
  },
  {
   "cell_type": "code",
   "execution_count": null,
   "metadata": {},
   "outputs": [],
   "source": [
    "from delb import tag\n",
    "\n",
    "def is_head(node: \"NodeBase\") -> bool:\n",
    "    return node.local_name == \"head\"\n",
    "\n",
    "def is_section(node: \"NodeBase\") -> bool:\n",
    "    return node.local_name == \"div\"\n",
    "\n",
    "\n",
    "def extract_section_titles(node: \"TagNode\") -> \"List[TagNode, ...]\":\n",
    "    result = []\n",
    "    for child_node in node.child_nodes(is_tag_node, is_section):\n",
    "        head = first(child_node.child_nodes(is_tag_node, is_head))        \n",
    "        section_item = node.new_tag_node(\"section\", namespace=TOC_NS, children=[\n",
    "            tag(\"title\", head.full_text)\n",
    "        ])\n",
    "        result.append(section_item)\n",
    "\n",
    "        subsections = extract_section_titles(child_node)\n",
    "        if subsections:\n",
    "            section_item.append_child(tag(\"subsections\", subsections))\n",
    "            \n",
    "    return result\n",
    "\n",
    "body = first(root.css_select(\"text body\"))\n",
    "contents.append_child(*extract_section_titles(body))\n",
    "root.append_child(contents)"
   ]
  },
  {
   "cell_type": "markdown",
   "metadata": {},
   "source": [
    "Finally we'll alter the root node's identity and get rid of the originating contents. For that last bit, we'll actually put that target nodes into a list that references these. Because like a list, a tree is a mutable object, and it must not be changed when iterating over."
   ]
  },
  {
   "cell_type": "code",
   "execution_count": null,
   "metadata": {},
   "outputs": [],
   "source": [
    "root.namespace = TOC_NS\n",
    "root.local_name = \"book_contents\"\n",
    "\n",
    "def namespace_filter(node: \"NodeBase\") -> bool:\n",
    "    return node.namespace != TOC_NS\n",
    "\n",
    "for node in list(root.child_nodes(is_tag_node, namespace_filter)):\n",
    "    node.detach()"
   ]
  },
  {
   "cell_type": "markdown",
   "source": [
    "#### Related API docs\n",
    "\n",
    "[`register_namespace`](https://delb.readthedocs.io/en/latest/api.html#delb.register_namespace),\n",
    "[`Document.clone`](https://delb.readthedocs.io/en/latest/api.html#delb.Document.clone),\n",
    "[`TagNode.css_select`](https://delb.readthedocs.io/en/latest/api.html#delb.TagNode.css_select),\n",
    "[`TagNode.namespace`](https://delb.readthedocs.io/en/latest/api.html#delb.TagNode.namespace),\n",
    "[`TagNode.insert_child`](https://delb.readthedocs.io/en/latest/api.html#delb.TagNode.insert_child),\n",
    "[`TagNode.detach`](https://delb.readthedocs.io/en/latest/api.html#delb.TagNode.detach),\n",
    "[`TagNode.new_tag_node`](https://delb.readthedocs.io/en/latest/api.html#delb.TagNode.new_tag_node),\n",
    "[`tag`](https://delb.readthedocs.io/en/latest/api.html#delb.tag),\n",
    "[`TagNode.append_child`](https://delb.readthedocs.io/en/latest/api.html#delb.TagNode.append_child)"
   ],
   "metadata": {
    "collapsed": false
   }
  },
  {
   "cell_type": "markdown",
   "metadata": {},
   "source": [
    "## Saving documents\n",
    "\n",
    "All right then, to wrap all up, we'll attach the newly created tree to a document, clean up the namespace-prefix-mess (well mostly, unfortunately there's no way yet to declare a namespace that is associated with a prefix as a default) and save the document to disk:"
   ]
  },
  {
   "cell_type": "code",
   "execution_count": null,
   "metadata": {},
   "outputs": [],
   "source": [
    "contents = Document(root)\n",
    "\n",
    "from pathlib import Path\n",
    "from tempfile import TemporaryDirectory\n",
    "\n",
    "with TemporaryDirectory() as tmp_path:\n",
    "    target = Path(tmp_path) / \"treasure_island_sections.xml\"\n",
    "    contents.save(target, pretty=True)\n",
    "    print(target.read_text())"
   ]
  },
  {
   "cell_type": "markdown",
   "source": [
    "#### Related API docs\n",
    "\n",
    "[`Document.save`](https://delb.readthedocs.io/en/latest/api.html#delb.Document.save)"
   ],
   "metadata": {
    "collapsed": false
   }
  }
 ],
 "metadata": {
  "kernelspec": {
   "display_name": "Python 3",
   "language": "python",
   "name": "python3"
  },
  "language_info": {
   "codemirror_mode": {
    "name": "ipython",
    "version": 3
   },
   "file_extension": ".py",
   "mimetype": "text/x-python",
   "name": "python",
   "nbconvert_exporter": "python",
   "pygments_lexer": "ipython3",
   "version": "3.7.3"
  },
  "pycharm": {
   "stem_cell": {
    "cell_type": "raw",
    "source": [],
    "metadata": {
     "collapsed": false
    }
   }
  }
 },
 "nbformat": 4,
 "nbformat_minor": 1
}
