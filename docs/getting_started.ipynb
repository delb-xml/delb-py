{
 "cells": [
  {
   "metadata": {},
   "cell_type": "markdown",
   "source": [
    "# Getting started with `delb`\n",
    "\n",
    "\n",
    "This notebook gives a brief introduction with a few examples on TEI-XML\n",
    "encoded transcriptions. The cells' output isn't pre-rendered, you need to\n",
    "execute them in order to see the output of code cells. The first cell requires\n",
    "an internet connection. The guide assumes that you have basic knowledge about\n",
    "the Python programming language, XML markup and with text encodings that use\n",
    "the latter.\n",
    "\n",
    "The full API reference is available at https://delb.readthedocs.io/en/latest/api.html .\n",
    "\n",
    "First, we will install the library, including the required dependencies to load \n",
    "resources over `https` and then import the `Document` class:"
   ]
  },
  {
   "metadata": {
    "trusted": true
   },
   "cell_type": "code",
   "source": [
    "! pip install delb[https-loader]\n",
    "\n",
    "# workaround for issue with entrypoint registration on mybinder.org\n",
    "from _delb.plugins import https_loader # not necessary in local environments\n\n",
    "from delb import Document"
   ],
   "execution_count": null,
   "outputs": []
  },
  {
   "metadata": {},
   "cell_type": "markdown",
   "source": [
    "## Loading a document\n",
    "\n",
    "`delb` can instantiate document representations from a variety of source\n",
    "arguments, namely URLs, strings and `lxml` objects. If these are not enough,\n",
    "more document loaders can be implemented and configured to be used. See the API\n",
    "doc's *Document loaders* section as well as the chapter on *Extending delb* for\n",
    "more on this.\n",
    "\n",
    "Let's load R.L. Stevenson's *Treasure Island* from a web server:"
   ]
  },
  {
   "metadata": {
    "trusted": true
   },
   "cell_type": "code",
   "source": [
    "treasure_island = Document(\n",
    "    \"https://ota.bodleian.ox.ac.uk/repository/xmlui/bitstream/handle/20.500.12024/5730/5730.xml\"\n",
    ")\n",
    "print(f\"{str(treasure_island)[:367]}\\n[…]\\n{str(treasure_island)[-384:]}\")"
   ],
   "execution_count": null,
   "outputs": []
  },
  {
   "metadata": {},
   "cell_type": "markdown",
   "source": [
    "#### Related API docs\n",
    "\n",
    "[Document class](https://delb.readthedocs.io/en/latest/api.html#delb.Document),\n",
    "[Documment loaders](https://delb.readthedocs.io/en/latest/api.html#module-delb.loaders)"
   ]
  },
  {
   "metadata": {},
   "cell_type": "markdown",
   "source": [
    "## Node types\n",
    "\n",
    "The document's content is contained in a tree whose root node is available as\n",
    "the `root` property of a document instance and is of the `TagNode` type."
   ]
  },
  {
   "metadata": {
    "trusted": true
   },
   "cell_type": "code",
   "source": [
    "root = treasure_island.root\n",
    "print(\"The root node's name:\", root.universal_name)\n",
    "print(\"The number of the root's child nodes:\", len(root))"
   ],
   "execution_count": null,
   "outputs": []
  },
  {
   "metadata": {},
   "cell_type": "markdown",
   "source": [
    "Beside `TagNode`s, there are also `TextNode`s as well as `CommentNode`s and\n",
    "`ProcessingInstruction`s. The latter two are filtered out by default, there's\n",
    "more on this in the API doc's *Default filters* section.\n",
    "\n",
    "Querying document contents is of course a common task and in the context of the\n",
    "whole document, CSS queries are straight-forward. So, what title is recorded in\n",
    "the document's header section?"
   ]
  },
  {
   "metadata": {
    "trusted": true
   },
   "cell_type": "code",
   "source": [
    "title_node = treasure_island.css_select(\"titleStmt title\").first\n",
    "print(title_node.full_text)"
   ],
   "execution_count": null,
   "outputs": []
  },
  {
   "metadata": {},
   "cell_type": "markdown",
   "source": [
    "For our purpose we want to manipulate the title to really just contain the\n",
    "work's title without further textual annotation, so we need to fetch the containing\n",
    "text node and alter its content:"
   ]
  },
  {
   "metadata": {
    "trusted": true
   },
   "cell_type": "code",
   "source": [
    "text_node = title_node.first_child\n",
    "text_node.content = \"Treasure Island\"\n",
    "print(title_node.full_text)"
   ],
   "execution_count": null,
   "outputs": []
  },
  {
   "metadata": {},
   "cell_type": "markdown",
   "source": [
    "#### Related API docs\n",
    "\n",
    "[`Document.root`](https://delb.readthedocs.io/en/latest/api.html#delb.Document.root),\n",
    "[`TagNode` class](https://delb.readthedocs.io/en/latest/api.html#deld.TagNode),\n",
    "[`TextNode` class](https://delb.readthedocs.io/en/latest/api.html#del.TextNode),\n",
    "[`CommentNode` class](https://delb.readthedocs.io/en/latest/api.html#delb.CommentNode),\n",
    "[`ProcessingInstruction` class](https://delb.readthedocs.io/en/latest/api.html#delb.ProcessingInstructionNode),\n",
    "[default filters](https://delb.readthedocs.io/en/latest/api.html#default-filters),\n",
    "[`Document.css_select`](https://delb.readthedocs.io/en/latest/api.html#delb.Document.css_select),\n",
    "[`TagNode.full_text`](https://delb.readthedocs.io/en/latest/api.html#delb.TagNode.full_text)"
   ]
  },
  {
   "metadata": {},
   "cell_type": "markdown",
   "source": [
    "## Navigating the tree\n",
    "\n",
    "Now, let's find out what the author record says and use different ways that\n",
    "`delb` provides to navigate the tree.\n",
    "\n",
    "Given we know that the document has only one author and that the node\n",
    "holding that information is following the `title`, it can be simply fetched\n",
    "by targeting the right sibling:"
   ]
  },
  {
   "metadata": {
    "trusted": true
   },
   "cell_type": "code",
   "source": [
    "author_node = title_node.next_node()\n",
    "print(author_node.full_text)"
   ],
   "execution_count": null,
   "outputs": []
  },
  {
   "metadata": {},
   "cell_type": "markdown",
   "source": [
    "But a more generic approach would consider that there could be several authors\n",
    "and that there's no constraint regarding the order of nodes in the containing\n",
    "`titleStmt` node. Therefore we define a filter that matches only nodes with\n",
    "the name `author` and use it after one that only passes `TagNode` s to fetch\n",
    "all matching child nodes of the `titleStmt`:"
   ]
  },
  {
   "metadata": {
    "trusted": true
   },
   "cell_type": "code",
   "source": [
    "from delb import is_tag_node\n",
    "\n",
    "def has_author_name(node: \"NodeBase\") -> bool:\n",
    "    return node.local_name == \"author\"\n",
    "\n",
    "title_statement = title_node.parent\n",
    "author_nodes = title_statement.child_nodes(is_tag_node, has_author_name)\n",
    "print(author_nodes)"
   ],
   "execution_count": null,
   "outputs": []
  },
  {
   "metadata": {},
   "cell_type": "markdown",
   "source": [
    "Wait, that `author_nodes` is a generator object, now what? Or firstly, why?\n",
    "Employing generators allows lazy evaluation of iterables and avoids large\n",
    "intermediate containers that could be expected in operations like this:\n",
    "\n",
    "```python\n",
    "def is_paragraph_node(node):\n",
    "    return is_tag_node(node) and node.local_name == \"p\"\n",
    "\n",
    "for node in root.child_nodes(is_paragraph_node, recurse=True):\n",
    "    # in the previous expression a rather big list could be allocated in memory\n",
    "    # while only one item is used at a time within the loop; also you might\n",
    "    # wanna `break` out of the loop earlier\n",
    "    pass\n",
    "```\n",
    "\n",
    "Since we are after the author names and not the containing nodes, we can use\n",
    "that generator (once) in a\n",
    "[list comprehension](https://docs.python.org/glossary.html#term-list-comprehension):"
   ]
  },
  {
   "metadata": {
    "trusted": true
   },
   "cell_type": "code",
   "source": "[node.full_text for node in author_nodes]",
   "execution_count": null,
   "outputs": []
  },
  {
   "metadata": {},
   "cell_type": "markdown",
   "source": "#### Related API docs\n\n[`TagNode.next_node`](https://delb.readthedocs.io/en/latest/api.html#delb.TagNode.next_node),\n[`is_tag_node`](https://delb.readthedocs.io/en/latest/api.html#delb.is_tag_node),\n[`TagNode.local_name`](https://delb.readthedocs.io/en/latest/api.html#delb.TagNode.local_name),\n[`TagNode.parent`](https://delb.readthedocs.io/en/latest/api.html#delb.TagNode.parent),\n[`TagNode.child_nodes`](https://delb.readthedocs.io/en/latest/api.html#delb.TagNode.child_nodes),"
  },
  {
   "metadata": {},
   "cell_type": "markdown",
   "source": "## Rearranging nodes\n\nWhat about we create another document that contains a table of contents, or\nrather a tree, and sparse title information? As this shall demonstrate the\nmanipulation of trees, we start off with a copy of the document (instead of\njust extracting the information and building a new tree, which would be more\nappropriate in a real application). First we define a namespace, register it\nwith a prefix for serializations and clone the root node."
  },
  {
   "metadata": {
    "trusted": true
   },
   "cell_type": "code",
   "source": "from delb import register_namespace\n\nTOC_NS = \"https://t.oc/\"\nregister_namespace(\"toc\", TOC_NS)\n\nroot = treasure_island.clone().root",
   "execution_count": null,
   "outputs": []
  },
  {
   "metadata": {},
   "cell_type": "markdown",
   "source": "Next we select and clone the nodes containing the title and author information,\nalter their namespace and place them as first child nodes of the root. Note\nthat except for `replace` all methods that add nodes to a tree, can take a\nvariable amount of nodes as arguments and therefore the destructuring notation\nof iterables by prefixing such with `*` can be used."
  },
  {
   "metadata": {
    "trusted": true
   },
   "cell_type": "code",
   "source": "nodes = [\n    node.clone(deep=True) for node in root.css_select(\"titleStmt title, titleStmt author\")\n]\n\nfor node in nodes:\n    node.namespace = TOC_NS\n\nroot.insert_child(0, *nodes)\nprint(str(root)[:213])",
   "execution_count": null,
   "outputs": []
  },
  {
   "metadata": {},
   "cell_type": "markdown",
   "source": "It's noteworthy at this point that `delb` doesn't allow to just move nodes\naround within or between trees. Following the paradigm that *explicit is better\nthan implicit*  it doesn't detach nodes for you and you have to either `clone`\n(as before or by passing the `clone` argument as `True`) or `detach` a\nnon-root node before you insert it into a tree.\n\nThen we get rid of the `teiHeader` and its contents. As the reference to the\ndetached nodes are lost, the nodes themselves will be removed from the heap\nupon garbage collection."
  },
  {
   "metadata": {
    "trusted": true
   },
   "cell_type": "code",
   "source": "root.css_select(\"teiHeader\").first.detach()\nprint(str(root)[:208])",
   "execution_count": null,
   "outputs": []
  },
  {
   "metadata": {},
   "cell_type": "markdown",
   "source": "For the directory of sections, we'll go that more straight-forward way of\nextracting information and assembling a new tree. So let's make a container for\nthe items:"
  },
  {
   "metadata": {
    "trusted": true
   },
   "cell_type": "code",
   "source": "contents = root.new_tag_node(\"contents\", namespace=TOC_NS)\nprint(contents)",
   "execution_count": null,
   "outputs": []
  },
  {
   "metadata": {},
   "cell_type": "markdown",
   "source": "We'll need to implement the data conversion in a function because we need to\nrecursively scan for subsections. Also, filter functions are defined and used\nto iterate over the relevant nodes. To reduce imperative instructions, the\n`tag` function is employed that allows a brief, declarative way to do build\nsubtrees."
  },
  {
   "metadata": {
    "trusted": true
   },
   "cell_type": "code",
   "source": "from delb import first, tag\n\ndef is_head(node: \"NodeBase\") -> bool:\n    return node.local_name == \"head\"\n\ndef is_section(node: \"NodeBase\") -> bool:\n    return node.local_name == \"div\"\n\n\ndef extract_section_titles(node: \"TagNode\") -> \"List[TagNode, ...]\":\n    result = []\n    for child_node in node.child_nodes(is_tag_node, is_section):\n        head = first(child_node.child_nodes(is_tag_node, is_head))\n        section_item = node.new_tag_node(\"section\", namespace=TOC_NS, children=[\n            tag(\"title\", head.full_text)\n        ])\n        result.append(section_item)\n\n        subsections = extract_section_titles(child_node)\n        if subsections:\n            section_item.append_child(tag(\"subsections\", subsections))\n\n    return result\n\nbody = root.css_select(\"text body\").first\ncontents.append_child(*extract_section_titles(body))\nroot.append_child(contents)",
   "execution_count": null,
   "outputs": []
  },
  {
   "metadata": {},
   "cell_type": "markdown",
   "source": "Finally we'll alter the root node's identity and get rid of the originating\ncontents. For that last bit, we'll actually put these target nodes into a list\nthat references these. Because like a list, a tree is a mutable object, and\nmust not be changed when iterating over it."
  },
  {
   "metadata": {
    "trusted": true
   },
   "cell_type": "code",
   "source": "root.namespace = TOC_NS\nroot.local_name = \"book_contents\"\n\ndef namespace_filter(node: \"NodeBase\") -> bool:\n    return node.namespace != TOC_NS\n\nfor node in list(root.child_nodes(is_tag_node, namespace_filter)):\n    node.detach()",
   "execution_count": null,
   "outputs": []
  },
  {
   "metadata": {},
   "cell_type": "markdown",
   "source": "#### Related API docs\n\n[`register_namespace`](https://delb.readthedocs.io/en/latest/api.html#delb.register_namespace),\n[`Document.clone`](https://delb.readthedocs.io/en/latest/api.html#delb.Document.clone),\n[`TagNode.css_select`](https://delb.readthedocs.io/en/latest/api.html#delb.TagNode.css_select),\n[`TagNode.namespace`](https://delb.readthedocs.io/en/latest/api.html#delb.TagNode.namespace),\n[`TagNode.insert_child`](https://delb.readthedocs.io/en/latest/api.html#delb.TagNode.insert_child),\n[`TagNode.detach`](https://delb.readthedocs.io/en/latest/api.html#delb.TagNode.detach),\n[`TagNode.new_tag_node`](https://delb.readthedocs.io/en/latest/api.html#delb.TagNode.new_tag_node),\n[`tag`](https://delb.readthedocs.io/en/latest/api.html#delb.tag),\n[`TagNode.append_child`](https://delb.readthedocs.io/en/latest/api.html#delb.TagNode.append_child)"
  },
  {
   "metadata": {},
   "cell_type": "markdown",
   "source": "## Saving documents\n\nAll right then, to wrap all up, we'll attach the newly created tree to a\ndocument, clean up the namespace-prefix-mess (well mostly, unfortunately\nthere's no way yet to declare a namespace that is already associated with a\nprefix as a default namespace) and save the document to disk:"
  },
  {
   "metadata": {
    "trusted": true
   },
   "cell_type": "code",
   "source": "contents = Document(root)\n\nfrom pathlib import Path\nfrom tempfile import TemporaryDirectory\n\nwith TemporaryDirectory() as tmp_path:\n    target = Path(tmp_path) / \"treasure_island_sections.xml\"\n    contents.save(target, pretty=True)\n    print(target.read_text())",
   "execution_count": null,
   "outputs": []
  },
  {
   "metadata": {},
   "cell_type": "markdown",
   "source": "#### Related API docs\n\n[`Document.save`](https://delb.readthedocs.io/en/latest/api.html#delb.Document.save)"
  }
 ],
 "metadata": {
  "kernelspec": {
   "name": "python3",
   "display_name": "Python 3",
   "language": "python"
  },
  "language_info": {
   "name": "python",
   "version": "3.7.8",
   "mimetype": "text/x-python",
   "codemirror_mode": {
    "name": "ipython",
    "version": 3
   },
   "pygments_lexer": "ipython3",
   "nbconvert_exporter": "python",
   "file_extension": ".py"
  }
 },
 "nbformat": 4,
 "nbformat_minor": 1
}
